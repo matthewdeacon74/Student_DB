{
 "cells": [
  {
   "cell_type": "code",
   "execution_count": 59,
   "id": "6f2e0d6c-2140-4009-9891-b4528ab0cd5d",
   "metadata": {},
   "outputs": [],
   "source": [
    "import pandas as pd\n",
    "import numpy as np\n",
    "import statistics as stats"
   ]
  },
  {
   "cell_type": "code",
   "execution_count": 60,
   "id": "7f28f64d-0419-4780-8574-a6a85cfc76d9",
   "metadata": {},
   "outputs": [],
   "source": [
    "# import data from CSV\n",
    "data = pd.read_csv('student-data.csv')"
   ]
  },
  {
   "cell_type": "markdown",
   "id": "a769eaac-f517-436b-923c-ff63e0d74f42",
   "metadata": {},
   "source": [
    "# Question 1\n"
   ]
  },
  {
   "cell_type": "code",
   "execution_count": 61,
   "id": "b808db0c-2dd7-4dbc-a1b5-04e42e0dd992",
   "metadata": {},
   "outputs": [
    {
     "name": "stdout",
     "output_type": "stream",
     "text": [
      " Math mean: 11.928571428571429\n",
      " Science mean: 14.214285714285714\n",
      " Reading mean: 10.785714285714286\n",
      " History mean: 11.428571428571429\n"
     ]
    }
   ],
   "source": [
    "# calculate the mean for each subject\n",
    "math_mean = data['Math'].mean()\n",
    "science_mean = data['Science'].mean()\n",
    "reading_mean = data['Reading'].mean()\n",
    "history_mean = data['History'].mean()\n",
    "\n",
    "print(f\" Math mean: {math_mean}\\n Science mean: {science_mean}\\n Reading mean: {reading_mean}\\n History mean: {history_mean}\")"
   ]
  },
  {
   "cell_type": "code",
   "execution_count": 62,
   "id": "7202bcee-f75a-4b17-982e-f3914076fcb3",
   "metadata": {},
   "outputs": [
    {
     "data": {
      "text/plain": [
       "11.0"
      ]
     },
     "execution_count": 62,
     "metadata": {},
     "output_type": "execute_result"
    }
   ],
   "source": [
    "# calculate the median Math grade for all students\n",
    "math_median = np.median(data['Math'])\n",
    "math_median"
   ]
  },
  {
   "cell_type": "code",
   "execution_count": 63,
   "id": "168381bc-dfa7-467e-b64e-95f6509b8773",
   "metadata": {},
   "outputs": [
    {
     "data": {
      "text/plain": [
       "14.0"
      ]
     },
     "execution_count": 63,
     "metadata": {},
     "output_type": "execute_result"
    }
   ],
   "source": [
    "# Calculate the mode for History\n",
    "history_mode = stats.mode(data['History'])\n",
    "history_mode"
   ]
  },
  {
   "cell_type": "markdown",
   "id": "0afe60d9-8e6c-4a64-91a6-bcb9f1eb6c89",
   "metadata": {},
   "source": [
    "# Question 2"
   ]
  },
  {
   "cell_type": "code",
   "execution_count": 64,
   "id": "803e8a8e-484d-4314-9e40-626b63d25c55",
   "metadata": {},
   "outputs": [
    {
     "data": {
      "text/html": [
       "<div>\n",
       "<style scoped>\n",
       "    .dataframe tbody tr th:only-of-type {\n",
       "        vertical-align: middle;\n",
       "    }\n",
       "\n",
       "    .dataframe tbody tr th {\n",
       "        vertical-align: top;\n",
       "    }\n",
       "\n",
       "    .dataframe thead th {\n",
       "        text-align: right;\n",
       "    }\n",
       "</style>\n",
       "<table border=\"1\" class=\"dataframe\">\n",
       "  <thead>\n",
       "    <tr style=\"text-align: right;\">\n",
       "      <th></th>\n",
       "      <th>Math</th>\n",
       "      <th>Science</th>\n",
       "      <th>Reading</th>\n",
       "      <th>History</th>\n",
       "    </tr>\n",
       "  </thead>\n",
       "  <tbody>\n",
       "    <tr>\n",
       "      <th>Math</th>\n",
       "      <td>1.000000</td>\n",
       "      <td>0.269494</td>\n",
       "      <td>-0.268562</td>\n",
       "      <td>-0.718358</td>\n",
       "    </tr>\n",
       "    <tr>\n",
       "      <th>Science</th>\n",
       "      <td>0.269494</td>\n",
       "      <td>1.000000</td>\n",
       "      <td>-0.527606</td>\n",
       "      <td>-0.358688</td>\n",
       "    </tr>\n",
       "    <tr>\n",
       "      <th>Reading</th>\n",
       "      <td>-0.268562</td>\n",
       "      <td>-0.527606</td>\n",
       "      <td>1.000000</td>\n",
       "      <td>0.206794</td>\n",
       "    </tr>\n",
       "    <tr>\n",
       "      <th>History</th>\n",
       "      <td>-0.718358</td>\n",
       "      <td>-0.358688</td>\n",
       "      <td>0.206794</td>\n",
       "      <td>1.000000</td>\n",
       "    </tr>\n",
       "  </tbody>\n",
       "</table>\n",
       "</div>"
      ],
      "text/plain": [
       "             Math   Science   Reading   History\n",
       "Math     1.000000  0.269494 -0.268562 -0.718358\n",
       "Science  0.269494  1.000000 -0.527606 -0.358688\n",
       "Reading -0.268562 -0.527606  1.000000  0.206794\n",
       "History -0.718358 -0.358688  0.206794  1.000000"
      ]
     },
     "execution_count": 64,
     "metadata": {},
     "output_type": "execute_result"
    }
   ],
   "source": [
    "# Calculate the correlation between different subjects\n",
    "# df.corr() blows up on strings, so we need to remove the student names\n",
    "just_grades = ['Math', 'Science', 'Reading', 'History']\n",
    "# now use df.corr to create the correlations\n",
    "correlations = data[just_grades].corr()\n",
    "correlations      #.unstack().sort_values() turns it into a list instead of table, but that doesn't really help\n",
    "\n",
    "# find the strongest correlation that isn't just a subject to itself...?\n",
    "# I can see that the strongest (inverse) correlation is Math & History (-.718358), but I can't figure out a reasonable way to determine it programmatically"
   ]
  },
  {
   "cell_type": "markdown",
   "id": "b0327a5a-793a-4edf-bc9c-adbb167133cb",
   "metadata": {},
   "source": [
    "# Question 3"
   ]
  },
  {
   "cell_type": "code",
   "execution_count": 65,
   "id": "071dc1ea-98b5-4d06-98c4-44e484bf8d35",
   "metadata": {},
   "outputs": [
    {
     "name": "stdout",
     "output_type": "stream",
     "text": [
      "mean: 59.47826086956522\n",
      "median: 60.0\n",
      "mode: 60\n",
      "max: 99\n",
      "min: 5\n",
      "range: 94\n",
      "variance: 664.162570888469\n",
      "standard deviation: 25.77135174740489\n"
     ]
    }
   ],
   "source": [
    "# create a desc_stats() function to calculate and print the mean, median, mode, max, min, range, variance, and SD for exam scores\n",
    "scores = [24, 5, 15, 60, 54, 82, 99, 80, 70, 98, 93, 60, 33, 22, 65, 61, 51, 58, 83, 86, 42, 67, 60]\n",
    "\n",
    "def desc_stats():\n",
    "    print(f\"mean: {np.mean(scores)}\")\n",
    "    print(f\"median: {np.median(scores)}\")\n",
    "    print(f\"mode: {stats.mode(scores)}\")\n",
    "    print(f\"max: {max(scores)}\")\n",
    "    print(f\"min: {min(scores)}\")\n",
    "    print(f\"range: {max(scores) - min(scores)}\")\n",
    "    print(f\"variance: {sum((x - np.mean(scores)) ** 2 for x in scores) / len(scores)}\")\n",
    "    print(f\"standard deviation: {(sum((x - np.mean(scores)) ** 2 for x in scores) / len(scores)) ** 0.5}\")\n",
    "\n",
    "\n",
    "desc_stats()"
   ]
  },
  {
   "cell_type": "markdown",
   "id": "42ebe44e-b017-4f4d-9fde-9205670718e3",
   "metadata": {},
   "source": [
    "# Extended Challenge"
   ]
  },
  {
   "cell_type": "markdown",
   "id": "d0f133d9-ecad-42b9-ac29-fe6b0a43163f",
   "metadata": {},
   "source": [
    "#### The mean, median, and mode are all right around 60, which is D-F.  If the \"average\" grade is C, then the scores should be scaled upwards by about 15 points."
   ]
  },
  {
   "cell_type": "code",
   "execution_count": null,
   "id": "c6908d5d-5a69-41c0-a7f4-c331e9393c1a",
   "metadata": {},
   "outputs": [],
   "source": []
  }
 ],
 "metadata": {
  "kernelspec": {
   "display_name": "Python 3 (ipykernel)",
   "language": "python",
   "name": "python3"
  },
  "language_info": {
   "codemirror_mode": {
    "name": "ipython",
    "version": 3
   },
   "file_extension": ".py",
   "mimetype": "text/x-python",
   "name": "python",
   "nbconvert_exporter": "python",
   "pygments_lexer": "ipython3",
   "version": "3.11.7"
  }
 },
 "nbformat": 4,
 "nbformat_minor": 5
}
